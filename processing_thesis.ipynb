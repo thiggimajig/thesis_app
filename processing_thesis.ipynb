{
 "cells": [
  {
   "cell_type": "markdown",
   "metadata": {},
   "source": [
    "Refactoring lost histogram processing file"
   ]
  },
  {
   "cell_type": "markdown",
   "metadata": {},
   "source": [
    "load all packages\n",
    "load up IA file as dataframe\n",
    "load up joined shapefile with census info\n",
    "drop unneeded columns\n",
    "dg loc so its only 50 rows\n",
    "change price to be a float and without funny symbols\n",
    "create new variables (that you'll find listed out on the csv file from yesterday)\n",
    "discovered explore for geopandas interactive mapping \n",
    "when you have the new variable in the new csv file, lets load that into qgis and join it again to the census shapefile, watch filenames\n",
    "then we'll have a new variables, with census data, geolocated file! all in one place! "
   ]
  },
  {
   "cell_type": "code",
   "execution_count": null,
   "metadata": {},
   "outputs": [],
   "source": [
    "def load_files(ia, census):\n",
    "    #load and create dataframes\n",
    "    pass\n",
    "    return(ia_df, census_gdf)"
   ]
  },
  {
   "cell_type": "code",
   "execution_count": null,
   "metadata": {},
   "outputs": [],
   "source": [
    "def clean_file(file):\n",
    "    #clean file\n",
    "    pass\n",
    "    return(cleaned_file)"
   ]
  },
  {
   "cell_type": "code",
   "execution_count": null,
   "metadata": {},
   "outputs": [],
   "source": [
    "def create_new_variables(cleaned_file):\n",
    "    #do a lot of processing\n",
    "    pass\n",
    "    return(updated_file)\n"
   ]
  }
 ],
 "metadata": {
  "language_info": {
   "name": "python"
  },
  "orig_nbformat": 4
 },
 "nbformat": 4,
 "nbformat_minor": 2
}
